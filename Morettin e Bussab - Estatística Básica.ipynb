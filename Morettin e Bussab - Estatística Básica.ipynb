{
 "cells": [
  {
   "cell_type": "markdown",
   "id": "f005a161",
   "metadata": {},
   "source": [
    "# Exercícios - Estatística\n",
    "\n",
    "Alguns exercícios do livro Estatística Básica do Morettin e Bussab. Escolhidos durante o momento de estudos, sem um critério definido, apenas para exercitar os cálculos e conceitos, usando alguma ferramenta digital mais interessante para executá-los."
   ]
  },
  {
   "cell_type": "code",
   "execution_count": 43,
   "id": "f3b4cccc",
   "metadata": {},
   "outputs": [],
   "source": [
    "import pandas as pd\n",
    "import math"
   ]
  },
  {
   "cell_type": "markdown",
   "id": "6ea7ea59",
   "metadata": {},
   "source": [
    "#### Capítulo 4 - Exercício 9\n",
    "\n",
    "A Companhia A de dedetização afirma que o processo por ela utilizado garante um efeito mais prolongado do que aquele obtido por seus concorrentes mais diretos. Uma amostra de vários ambientes dedetizados foi colhida e anotou-se a duração do efeito de dedetização.\n",
    "\n",
    "Os resultados estão na tabela abaixo. Você acha que existe alguma evidência a favor ou contra a afirmação feita pela Companhia A?"
   ]
  },
  {
   "cell_type": "code",
   "execution_count": 33,
   "id": "945508ca",
   "metadata": {},
   "outputs": [
    {
     "data": {
      "text/html": [
       "<div>\n",
       "<style scoped>\n",
       "    .dataframe tbody tr th:only-of-type {\n",
       "        vertical-align: middle;\n",
       "    }\n",
       "\n",
       "    .dataframe tbody tr th {\n",
       "        vertical-align: top;\n",
       "    }\n",
       "\n",
       "    .dataframe thead th {\n",
       "        text-align: right;\n",
       "    }\n",
       "</style>\n",
       "<table border=\"1\" class=\"dataframe\">\n",
       "  <thead>\n",
       "    <tr style=\"text-align: right;\">\n",
       "      <th></th>\n",
       "      <th>Menos de 4 meses</th>\n",
       "      <th>De 4 a 8 meses</th>\n",
       "      <th>Mais de 8 meses</th>\n",
       "      <th>Total</th>\n",
       "    </tr>\n",
       "  </thead>\n",
       "  <tbody>\n",
       "    <tr>\n",
       "      <th>A</th>\n",
       "      <td>64</td>\n",
       "      <td>120</td>\n",
       "      <td>16</td>\n",
       "      <td>200</td>\n",
       "    </tr>\n",
       "    <tr>\n",
       "      <th>B</th>\n",
       "      <td>104</td>\n",
       "      <td>175</td>\n",
       "      <td>21</td>\n",
       "      <td>300</td>\n",
       "    </tr>\n",
       "    <tr>\n",
       "      <th>C</th>\n",
       "      <td>27</td>\n",
       "      <td>48</td>\n",
       "      <td>5</td>\n",
       "      <td>80</td>\n",
       "    </tr>\n",
       "  </tbody>\n",
       "</table>\n",
       "</div>"
      ],
      "text/plain": [
       "   Menos de 4 meses  De 4 a 8 meses  Mais de 8 meses  Total\n",
       "A                64             120               16    200\n",
       "B               104             175               21    300\n",
       "C                27              48                5     80"
      ]
     },
     "execution_count": 33,
     "metadata": {},
     "output_type": "execute_result"
    }
   ],
   "source": [
    "import pandas as pd\n",
    "\n",
    "# Dados\n",
    "data = [[64, 120, 16], [104, 175, 21], [27, 48, 5]]\n",
    "index = ['A', 'B', 'C']\n",
    "columns = ['Menos de 4 meses', 'De 4 a 8 meses', 'Mais de 8 meses']\n",
    "\n",
    "# Criando DataFrame\n",
    "df = pd.DataFrame(data=data, index=index, columns=columns)\n",
    "\n",
    "# Adicionando coluna Total\n",
    "df['Total'] = df.sum(axis=1)\n",
    "\n",
    "# Dados originais\n",
    "\n",
    "df"
   ]
  },
  {
   "cell_type": "code",
   "execution_count": 35,
   "id": "9f3d5705",
   "metadata": {},
   "outputs": [
    {
     "data": {
      "text/html": [
       "<div>\n",
       "<style scoped>\n",
       "    .dataframe tbody tr th:only-of-type {\n",
       "        vertical-align: middle;\n",
       "    }\n",
       "\n",
       "    .dataframe tbody tr th {\n",
       "        vertical-align: top;\n",
       "    }\n",
       "\n",
       "    .dataframe thead th {\n",
       "        text-align: right;\n",
       "    }\n",
       "</style>\n",
       "<table border=\"1\" class=\"dataframe\">\n",
       "  <thead>\n",
       "    <tr style=\"text-align: right;\">\n",
       "      <th></th>\n",
       "      <th>Menos de 4 meses</th>\n",
       "      <th>De 4 a 8 meses</th>\n",
       "      <th>Mais de 8 meses</th>\n",
       "      <th>Total</th>\n",
       "    </tr>\n",
       "  </thead>\n",
       "  <tbody>\n",
       "    <tr>\n",
       "      <th>A</th>\n",
       "      <td>67.241379</td>\n",
       "      <td>118.275862</td>\n",
       "      <td>14.482759</td>\n",
       "      <td>200</td>\n",
       "    </tr>\n",
       "    <tr>\n",
       "      <th>B</th>\n",
       "      <td>100.862069</td>\n",
       "      <td>177.413793</td>\n",
       "      <td>21.724138</td>\n",
       "      <td>300</td>\n",
       "    </tr>\n",
       "    <tr>\n",
       "      <th>C</th>\n",
       "      <td>26.896552</td>\n",
       "      <td>47.310345</td>\n",
       "      <td>5.793103</td>\n",
       "      <td>80</td>\n",
       "    </tr>\n",
       "  </tbody>\n",
       "</table>\n",
       "</div>"
      ],
      "text/plain": [
       "   Menos de 4 meses  De 4 a 8 meses  Mais de 8 meses  Total\n",
       "A         67.241379      118.275862        14.482759    200\n",
       "B        100.862069      177.413793        21.724138    300\n",
       "C         26.896552       47.310345         5.793103     80"
      ]
     },
     "execution_count": 35,
     "metadata": {},
     "output_type": "execute_result"
    }
   ],
   "source": [
    "# Criando cópia\n",
    "\n",
    "df_copy = df.copy()\n",
    "\n",
    "# Calculando valores relativos do Total\n",
    "df_copy.iloc[:, 3] = df_copy.iloc[:, 3] / df_copy.iloc[:, 3].sum()\n",
    "\n",
    "# Procurando valores esperados\n",
    "\n",
    "for i in range(3):\n",
    "    df_copy.iloc[:, i] = df_copy.iloc[:, i].sum() * df_copy.iloc[:, 3]\n",
    "\n",
    "# Mantendo Total absoluto\n",
    "\n",
    "df_copy.iloc[:, 3] = df.iloc[:, 3]\n",
    "\n",
    "df_copy"
   ]
  },
  {
   "cell_type": "code",
   "execution_count": 44,
   "id": "b1609201",
   "metadata": {},
   "outputs": [
    {
     "name": "stdout",
     "output_type": "stream",
     "text": [
      "Qui² = 0.6139673818245236\n",
      "C = 0.25270935969846636\n",
      "T = 0.13059345119540128\n"
     ]
    }
   ],
   "source": [
    "qui_2 = 0\n",
    "\n",
    "for i in range(3):\n",
    "    for j in range(3):\n",
    "        \n",
    "        qui_2 += ((df.iloc[i, j] - df_copy.iloc[i, j])**2)/df_copy.iloc[i, j]\n",
    "\n",
    "print(f'Qui² = {qui_2}')\n",
    "\n",
    "n = 9 \n",
    "C = math.sqrt(qui_2/(qui_2 + 9))\n",
    "T = math.sqrt((qui_2/n)/((3 - 1)*(3 - 1)))\n",
    "\n",
    "print(f'C = {C}')\n",
    "print(f'T = {T}')"
   ]
  },
  {
   "cell_type": "markdown",
   "id": "5b0116ec",
   "metadata": {},
   "source": [
    "Com valores baixos para os coeficientes, entende-se que a marca não influencia de maneira significativa a duração do efeito, contrariando a afirmação da Companhia A."
   ]
  },
  {
   "cell_type": "code",
   "execution_count": null,
   "id": "fb91271d",
   "metadata": {},
   "outputs": [],
   "source": []
  }
 ],
 "metadata": {
  "kernelspec": {
   "display_name": "Python 3 (ipykernel)",
   "language": "python",
   "name": "python3"
  },
  "language_info": {
   "codemirror_mode": {
    "name": "ipython",
    "version": 3
   },
   "file_extension": ".py",
   "mimetype": "text/x-python",
   "name": "python",
   "nbconvert_exporter": "python",
   "pygments_lexer": "ipython3",
   "version": "3.9.13"
  }
 },
 "nbformat": 4,
 "nbformat_minor": 5
}
